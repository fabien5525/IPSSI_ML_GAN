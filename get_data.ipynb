{
 "cells": [
  {
   "cell_type": "code",
   "execution_count": 4,
   "metadata": {},
   "outputs": [
    {
     "name": "stdout",
     "output_type": "stream",
     "text": [
      "/tf/notebooks\n"
     ]
    }
   ],
   "source": [
    "%cd /tf/notebooks/"
   ]
  },
  {
   "cell_type": "code",
   "execution_count": 13,
   "metadata": {},
   "outputs": [
    {
     "name": "stdout",
     "output_type": "stream",
     "text": [
      "Resuming from page 369\n",
      "Failed to fetch data\n",
      "Data and progress saved to anime_data_and_progress.json\n"
     ]
    }
   ],
   "source": [
    "import requests\n",
    "import json\n",
    "import time\n",
    "\n",
    "url = 'https://graphql.anilist.co'\n",
    "headers = {'Content-Type': 'application/json'}\n",
    "\n",
    "query = '''\n",
    "{\n",
    "  Page(page: %d, perPage: 10) {\n",
    "    pageInfo {\n",
    "      total\n",
    "      perPage\n",
    "      currentPage\n",
    "      hasNextPage\n",
    "    }\n",
    "    media(type: ANIME, startDate_greater: 2015) {\n",
    "      title {\n",
    "        romaji\n",
    "        english\n",
    "      }\n",
    "      startDate {\n",
    "        year\n",
    "        month\n",
    "        day\n",
    "      }\n",
    "      characters(role: MAIN) {\n",
    "        edges {\n",
    "          node {\n",
    "            name {\n",
    "              full\n",
    "            }\n",
    "            image {\n",
    "              medium\n",
    "            }\n",
    "          }\n",
    "        }\n",
    "      }\n",
    "    }\n",
    "  }\n",
    "}\n",
    "'''\n",
    "\n",
    "data_file = 'anime_data_and_progress.json'  # File to store data and progress\n",
    "\n",
    "try:\n",
    "    with open(data_file, 'r') as file:\n",
    "        data = json.load(file)\n",
    "        page = data['progress']['currentPage'] + 1\n",
    "        print(f\"Resuming from page {page}\")\n",
    "except FileNotFoundError:\n",
    "    print(\"No data file found. Starting from the beginning.\")\n",
    "    data = {'animeData': [], 'progress': {'total': 0, 'currentPage': 1}}\n",
    "    json.dump(data, open(data_file, 'w'))\n",
    "    page = 1\n",
    "\n",
    "while True:\n",
    "    start_time = time.time()\n",
    "    payload = {'query': query % page}\n",
    "    response = requests.post(url, headers=headers, json=payload)\n",
    "\n",
    "    if response.status_code == 200:\n",
    "        result = response.json()\n",
    "        if not result['data']['Page']['media']:\n",
    "            break  # No more data available, exit the loop\n",
    "\n",
    "        data['animeData'].extend(result['data']['Page']['media'])\n",
    "        data['progress']['currentPage'] = page\n",
    "        data['progress']['total'] = result['data']['Page']['pageInfo']['total']\n",
    "        page += 1\n",
    "\n",
    "        # Save data and progress after each page fetch\n",
    "        with open(data_file, 'w') as file:\n",
    "            json.dump(data, file)\n",
    "\n",
    "        # Check time elapsed for rate limiting\n",
    "        elapsed_time = time.time() - start_time\n",
    "        if elapsed_time < 60 / 90:  # Ensure no more than 90 requests per minute\n",
    "            time.sleep((60 / 90) - elapsed_time)\n",
    "    else:\n",
    "        print('Failed to fetch data')\n",
    "        break\n",
    "\n",
    "print('Data and progress saved to anime_data_and_progress.json')\n"
   ]
  }
 ],
 "metadata": {
  "kernelspec": {
   "display_name": "Python 3 (ipykernel)",
   "language": "python",
   "name": "python3"
  },
  "language_info": {
   "codemirror_mode": {
    "name": "ipython",
    "version": 3
   },
   "file_extension": ".py",
   "mimetype": "text/x-python",
   "name": "python",
   "nbconvert_exporter": "python",
   "pygments_lexer": "ipython3",
   "version": "3.11.0rc1"
  }
 },
 "nbformat": 4,
 "nbformat_minor": 2
}
